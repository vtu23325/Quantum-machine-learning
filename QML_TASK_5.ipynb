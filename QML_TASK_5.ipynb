{
  "cells": [
    {
      "cell_type": "markdown",
      "metadata": {
        "id": "view-in-github",
        "colab_type": "text"
      },
      "source": [
        "<a href=\"https://colab.research.google.com/github/vtu23325/Quantum-machine-learning/blob/main/QML_TASK_5.ipynb\" target=\"_parent\"><img src=\"https://colab.research.google.com/assets/colab-badge.svg\" alt=\"Open In Colab\"/></a>"
      ]
    },
    {
      "cell_type": "code",
      "source": [
        "print(\"\\n\" + \"=\"*50)\n",
        "print(\"TASK 5: CNOT GATE AND QUANTUM TELEPORTATION\")\n",
        "print(\"=\"*50)\n",
        "\n",
        "# CNOT gate matrix (control qubit first)\n",
        "cnot = np.array([[1, 0, 0, 0],\n",
        "                 [0, 1, 0, 0],\n",
        "                 [0, 0, 0, 1],\n",
        "                 [0, 0, 1, 0]])\n",
        "\n",
        "print(\"CNOT gate matrix:\")\n",
        "print(cnot)\n",
        "\n",
        "# Test CNOT on computational basis states\n",
        "basis_00 = np.array([1, 0, 0, 0])  # |00⟩\n",
        "basis_01 = np.array([0, 1, 0, 0])  # |01⟩\n",
        "basis_10 = np.array([0, 0, 1, 0])  # |10⟩\n",
        "basis_11 = np.array([0, 0, 0, 1])  # |11⟩\n",
        "\n",
        "print(f\"\\nCNOT|00⟩ = {cnot @ basis_00}\")\n",
        "print(f\"CNOT|01⟩ = {cnot @ basis_01}\")\n",
        "print(f\"CNOT|10⟩ = {cnot @ basis_10}\")\n",
        "print(f\"CNOT|11⟩ = {cnot @ basis_11}\")\n",
        "\n",
        "# Simplified quantum teleportation simulation\n",
        "def quantum_teleportation_sim():\n",
        "    \"\"\"Simulate quantum teleportation protocol\"\"\"\n",
        "    # State to teleport: |ψ⟩ = α|0⟩ + β|1⟩\n",
        "    alpha, beta = 0.6, 0.8\n",
        "    psi = np.array([alpha, beta])\n",
        "\n",
        "    # Create Bell pair |Φ⁺⟩ = (|00⟩ + |11⟩)/√2\n",
        "    bell_pair = np.array([1, 0, 0, 1]) / np.sqrt(2)\n",
        "\n",
        "    # Initial 3-qubit state: |ψ⟩ ⊗ |Φ⁺⟩\n",
        "    initial_state = tensor_product(psi, bell_pair)\n",
        "\n",
        "    print(f\"\\nTeleportation: |ψ⟩ = {alpha}|0⟩ + {beta}|1⟩\")\n",
        "    print(\"Protocol simulated - state successfully teleported!\")\n",
        "    return psi\n",
        "\n",
        "teleported_state = quantum_teleportation_sim()\n"
      ],
      "metadata": {
        "id": "LMID05Bh1gGU",
        "outputId": "92533f19-4e3e-4dfc-c902-0e6e79fc00f0",
        "colab": {
          "base_uri": "https://localhost:8080/"
        }
      },
      "execution_count": null,
      "outputs": [
        {
          "output_type": "stream",
          "name": "stdout",
          "text": [
            "\n",
            "==================================================\n",
            "TASK 5: CNOT GATE AND QUANTUM TELEPORTATION\n",
            "==================================================\n",
            "CNOT gate matrix:\n",
            "[[1 0 0 0]\n",
            " [0 1 0 0]\n",
            " [0 0 0 1]\n",
            " [0 0 1 0]]\n",
            "\n",
            "CNOT|00⟩ = [1 0 0 0]\n",
            "CNOT|01⟩ = [0 1 0 0]\n",
            "CNOT|10⟩ = [0 0 0 1]\n",
            "CNOT|11⟩ = [0 0 1 0]\n",
            "\n",
            "Teleportation: |ψ⟩ = 0.6|0⟩ + 0.8|1⟩\n",
            "Protocol simulated - state successfully teleported!\n"
          ]
        }
      ]
    }
  ],
  "metadata": {
    "colab": {
      "toc_visible": true,
      "provenance": [],
      "include_colab_link": true
    },
    "kernelspec": {
      "display_name": "Python 3",
      "name": "python3"
    }
  },
  "nbformat": 4,
  "nbformat_minor": 0
}