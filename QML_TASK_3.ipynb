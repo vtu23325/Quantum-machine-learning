{
  "cells": [
    {
      "cell_type": "markdown",
      "metadata": {
        "id": "view-in-github",
        "colab_type": "text"
      },
      "source": [
        "<a href=\"https://colab.research.google.com/github/vtu23325/Quantum-machine-learning/blob/main/QML_TASK_3.ipynb\" target=\"_parent\"><img src=\"https://colab.research.google.com/assets/colab-badge.svg\" alt=\"Open In Colab\"/></a>"
      ]
    },
    {
      "cell_type": "code",
      "source": [
        "print(\"\\n\" + \"=\"*50)\n",
        "print(\"TASK 3: BELL STATES AND ENTANGLEMENT ENTROPY\")\n",
        "print(\"=\"*50)\n",
        "\n",
        "def tensor_product(a, b):\n",
        "    \"\"\"Compute tensor product of two vectors\"\"\"\n",
        "    return np.kron(a, b)\n",
        "\n",
        "# Create Bell states using tensor products\n",
        "bell_00 = (tensor_product(qubit_0, qubit_0) + tensor_product(qubit_1, qubit_1)) / np.sqrt(2)\n",
        "bell_01 = (tensor_product(qubit_0, qubit_1) + tensor_product(qubit_1, qubit_0)) / np.sqrt(2)\n",
        "bell_10 = (tensor_product(qubit_0, qubit_0) - tensor_product(qubit_1, qubit_1)) / np.sqrt(2)\n",
        "bell_11 = (tensor_product(qubit_0, qubit_1) - tensor_product(qubit_1, qubit_0)) / np.sqrt(2)\n",
        "\n",
        "print(\"Bell state |Φ⁺⟩ =\", bell_00)\n",
        "print(\"Bell state |Φ⁻⟩ =\", bell_10)\n",
        "\n",
        "def entanglement_entropy(state):\n",
        "    \"\"\"Calculate entanglement entropy for 2-qubit system\"\"\"\n",
        "    # Reshape state into 2x2 matrix\n",
        "    psi_matrix = state.reshape(2, 2)\n",
        "    # Compute reduced density matrix (trace over second qubit)\n",
        "    rho_a = psi_matrix @ psi_matrix.conj().T\n",
        "    # Get eigenvalues\n",
        "    eigenvals = np.linalg.eigvals(rho_a)\n",
        "    eigenvals = eigenvals[eigenvals > 1e-10]  # Remove zeros\n",
        "    # Calculate von Neumann entropy\n",
        "    entropy = -np.sum(eigenvals * np.log2(eigenvals))\n",
        "    return entropy\n",
        "\n",
        "print(f\"\\nEntanglement entropy of |Φ⁺⟩: {entanglement_entropy(bell_00):.3f}\")\n",
        "print(f\"Entanglement entropy of |Φ⁻⟩: {entanglement_entropy(bell_10):.3f}\")\n",
        "\n",
        "# Compare with separable state\n",
        "separable = tensor_product(qubit_0, qubit_0)\n",
        "print(f\"Entanglement entropy of |00⟩: {entanglement_entropy(separable):.3f}\")\n"
      ],
      "metadata": {
        "id": "gn3kz-nI05oA",
        "outputId": "2bafef0b-2249-4e8f-bf72-57bfcf0fa7db",
        "colab": {
          "base_uri": "https://localhost:8080/"
        }
      },
      "execution_count": null,
      "outputs": [
        {
          "output_type": "stream",
          "name": "stdout",
          "text": [
            "\n",
            "==================================================\n",
            "TASK 3: BELL STATES AND ENTANGLEMENT ENTROPY\n",
            "==================================================\n",
            "Bell state |Φ⁺⟩ = [0.70710678 0.         0.         0.70710678]\n",
            "Bell state |Φ⁻⟩ = [ 0.70710678  0.          0.         -0.70710678]\n",
            "\n",
            "Entanglement entropy of |Φ⁺⟩: 1.000\n",
            "Entanglement entropy of |Φ⁻⟩: 1.000\n",
            "Entanglement entropy of |00⟩: -0.000\n"
          ]
        }
      ]
    }
  ],
  "metadata": {
    "colab": {
      "toc_visible": true,
      "provenance": [],
      "include_colab_link": true
    },
    "kernelspec": {
      "display_name": "Python 3",
      "name": "python3"
    }
  },
  "nbformat": 4,
  "nbformat_minor": 0
}