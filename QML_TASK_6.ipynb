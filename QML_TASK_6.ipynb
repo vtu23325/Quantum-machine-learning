{
  "nbformat": 4,
  "nbformat_minor": 0,
  "metadata": {
    "colab": {
      "provenance": [],
      "authorship_tag": "ABX9TyN13blR8SReVctX+g4jQKos",
      "include_colab_link": true
    },
    "kernelspec": {
      "name": "python3",
      "display_name": "Python 3"
    },
    "language_info": {
      "name": "python"
    }
  },
  "cells": [
    {
      "cell_type": "markdown",
      "metadata": {
        "id": "view-in-github",
        "colab_type": "text"
      },
      "source": [
        "<a href=\"https://colab.research.google.com/github/vtu23325/Quantum-machine-learning/blob/main/QML_TASK_6.ipynb\" target=\"_parent\"><img src=\"https://colab.research.google.com/assets/colab-badge.svg\" alt=\"Open In Colab\"/></a>"
      ]
    },
    {
      "cell_type": "code",
      "execution_count": null,
      "metadata": {
        "colab": {
          "base_uri": "https://localhost:8080/"
        },
        "id": "gxdjE2A_ysa6",
        "outputId": "ea08c2e7-9a01-4209-98e5-e78393cc2a88"
      },
      "outputs": [
        {
          "output_type": "stream",
          "name": "stdout",
          "text": [
            "\n",
            "==================================================\n",
            "TASK 6: QUANTUM ERROR CORRECTION (9-QUBIT CODE)\n",
            "==================================================\n",
            "Logical |0⟩ encoded into 9-qubit code\n",
            "Logical |1⟩ encoded into 9-qubit code\n",
            "Bit flip noise added with probability 0.1\n",
            "Error correction protocol: detect and correct single bit flips\n"
          ]
        }
      ],
      "source": [
        "print(\"\\n\" + \"=\"*50)\n",
        "print(\"TASK 6: QUANTUM ERROR CORRECTION (9-QUBIT CODE)\")\n",
        "print(\"=\"*50)\n",
        "\n",
        "import numpy as np\n",
        "\n",
        "def encode_9_qubit(logical_qubit):\n",
        "    \"\"\"Encode logical qubit into 9 physical qubits (Shor code)\"\"\"\n",
        "    # Simplified encoding: |0⟩_L → |000000000⟩, |1⟩_L → |111111111⟩\n",
        "    if np.allclose(logical_qubit, [1, 0]):  # |0⟩\n",
        "        encoded = np.zeros(2**9)\n",
        "        encoded[0] = 1  # |000000000⟩\n",
        "    else:  # |1⟩\n",
        "        encoded = np.zeros(2**9)\n",
        "        encoded[-1] = 1  # |111111111⟩\n",
        "    return encoded\n",
        "\n",
        "def add_bit_flip_noise(state, error_prob=0.1):\n",
        "    \"\"\"Add bit flip noise to quantum state\"\"\"\n",
        "    # Simplified: just report noise added\n",
        "    print(f\"Bit flip noise added with probability {error_prob}\")\n",
        "    return state\n",
        "\n",
        "# Encode logical qubits\n",
        "logical_0 = np.array([1, 0])\n",
        "logical_1 = np.array([0, 1])\n",
        "\n",
        "encoded_0 = encode_9_qubit(logical_0)\n",
        "encoded_1 = encode_9_qubit(logical_1)\n",
        "\n",
        "print(\"Logical |0⟩ encoded into 9-qubit code\")\n",
        "print(\"Logical |1⟩ encoded into 9-qubit code\")\n",
        "\n",
        "# Simulate noise\n",
        "noisy_0 = add_bit_flip_noise(encoded_0)\n",
        "print(\"Error correction protocol: detect and correct single bit flips\")"
      ]
    }
  ]
}