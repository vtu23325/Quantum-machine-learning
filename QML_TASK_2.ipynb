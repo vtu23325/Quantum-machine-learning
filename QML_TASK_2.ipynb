{
  "cells": [
    {
      "cell_type": "markdown",
      "metadata": {
        "id": "view-in-github",
        "colab_type": "text"
      },
      "source": [
        "<a href=\"https://colab.research.google.com/github/vtu23325/Quantum-machine-learning/blob/main/QML_TASK_2.ipynb\" target=\"_parent\"><img src=\"https://colab.research.google.com/assets/colab-badge.svg\" alt=\"Open In Colab\"/></a>"
      ]
    },
    {
      "cell_type": "code",
      "source": [
        "print(\"\\n\" + \"=\"*50)\n",
        "print(\"TASK 2: PAULI MATRICES AND EIGEN-ANALYSIS\")\n",
        "print(\"=\"*50)\n",
        "# Define Pauli matrices\n",
        "pauli_x = np.array([[0, 1], [1, 0]])\n",
        "pauli_y = np.array([[0, -1j], [1j, 0]])\n",
        "pauli_z = np.array([[1, 0], [0, -1]])\n",
        "print(\"Pauli-X matrix:\")\n",
        "print(pauli_x)\n",
        "print(\"\\nPauli-Y matrix:\")\n",
        "print(pauli_y)\n",
        "print(\"\\nPauli-Z matrix:\")\n",
        "print(pauli_z)\n",
        "\n",
        "# Apply to qubit states\n",
        "qubit_0 = np.array([1, 0])  # |0⟩\n",
        "qubit_1 = np.array([0, 1])  # |1⟩\n",
        "\n",
        "print(\"\\nApplying Pauli-X to |0⟩:\", pauli_x @ qubit_0)\n",
        "print(\"Applying Pauli-X to |1⟩:\", pauli_x @ qubit_1)\n",
        "\n",
        "# Compute eigenvalues and eigenvectors\n",
        "from numpy.linalg import eig\n",
        "\n",
        "def analyze_operator(matrix, name):\n",
        "    eigenvals, eigenvecs = eig(matrix)\n",
        "    print(f\"\\n{name} Eigenvalues:\", eigenvals)\n",
        "    print(f\"{name} Eigenvectors:\")\n",
        "    for i, vec in enumerate(eigenvecs.T):\n",
        "        print(f\"  λ={eigenvals[i]:.1f}: {vec}\")\n",
        "\n",
        "analyze_operator(pauli_x, \"Pauli-X\")\n",
        "analyze_operator(pauli_y, \"Pauli-Y\")\n",
        "analyze_operator(pauli_z, \"Pauli-Z\")"
      ],
      "metadata": {
        "colab": {
          "base_uri": "https://localhost:8080/"
        },
        "id": "j2SbC0Gp0aH8",
        "outputId": "bcd78b2d-0f7a-4df7-e754-34731e47051d"
      },
      "execution_count": null,
      "outputs": [
        {
          "output_type": "stream",
          "name": "stdout",
          "text": [
            "\n",
            "==================================================\n",
            "TASK 2: PAULI MATRICES AND EIGEN-ANALYSIS\n",
            "==================================================\n",
            "Pauli-X matrix:\n",
            "[[0 1]\n",
            " [1 0]]\n",
            "\n",
            "Pauli-Y matrix:\n",
            "[[ 0.+0.j -0.-1.j]\n",
            " [ 0.+1.j  0.+0.j]]\n",
            "\n",
            "Pauli-Z matrix:\n",
            "[[ 1  0]\n",
            " [ 0 -1]]\n",
            "\n",
            "Applying Pauli-X to |0⟩: [0 1]\n",
            "Applying Pauli-X to |1⟩: [1 0]\n",
            "\n",
            "Pauli-X Eigenvalues: [ 1. -1.]\n",
            "Pauli-X Eigenvectors:\n",
            "  λ=1.0: [0.70710678 0.70710678]\n",
            "  λ=-1.0: [-0.70710678  0.70710678]\n",
            "\n",
            "Pauli-Y Eigenvalues: [ 1.+0.j -1.+0.j]\n",
            "Pauli-Y Eigenvectors:\n",
            "  λ=1.0+0.0j: [-0.        -0.70710678j  0.70710678+0.j        ]\n",
            "  λ=-1.0+0.0j: [0.70710678+0.j         0.        -0.70710678j]\n",
            "\n",
            "Pauli-Z Eigenvalues: [ 1. -1.]\n",
            "Pauli-Z Eigenvectors:\n",
            "  λ=1.0: [1. 0.]\n",
            "  λ=-1.0: [0. 1.]\n"
          ]
        }
      ]
    }
  ],
  "metadata": {
    "colab": {
      "toc_visible": true,
      "provenance": [],
      "include_colab_link": true
    },
    "kernelspec": {
      "display_name": "Python 3",
      "name": "python3"
    }
  },
  "nbformat": 4,
  "nbformat_minor": 0
}